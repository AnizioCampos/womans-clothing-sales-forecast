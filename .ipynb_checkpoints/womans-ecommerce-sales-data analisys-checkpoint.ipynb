{
 "cells": [
  {
   "cell_type": "code",
   "execution_count": 1,
   "id": "58fa6655-1d56-4bb4-908b-26e1628238bf",
   "metadata": {},
   "outputs": [],
   "source": [
    "import numpy as np\n",
    "import pandas as pd\n",
    "import matplotlib.pyplot as plt"
   ]
  },
  {
   "cell_type": "code",
   "execution_count": 53,
   "id": "2bbf95bd-83cf-49f1-9cae-00eb1ae28100",
   "metadata": {},
   "outputs": [],
   "source": [
    "df = pd.read_csv(r'women_clothing_ecommerce_sales.csv')\n",
    "\n",
    "# transforming the column \"order_date\" to only date format since we are not going to analyse hourly trends\n",
    "df['order_date'] = pd.to_datetime(df['order_date']).dt.date\n",
    "# groupby to sum the days are repeated\n",
    "df = df.groupby(by=['order_date', 'sku', 'color']).agg('quantity':'sum', )\n",
    "\n",
    "df = df.set_index('order_date')"
   ]
  },
  {
   "cell_type": "code",
   "execution_count": 3,
   "id": "391f9065-1bbc-49e5-8ffb-dad2438647df",
   "metadata": {},
   "outputs": [
    {
     "data": {
      "text/plain": [
       "(527, 8)"
      ]
     },
     "execution_count": 3,
     "metadata": {},
     "output_type": "execute_result"
    }
   ],
   "source": [
    "df.shape"
   ]
  },
  {
   "cell_type": "code",
   "execution_count": 54,
   "id": "5dc28847-81bc-45e0-a629-b6b14d49a13a",
   "metadata": {},
   "outputs": [
    {
     "data": {
      "text/html": [
       "<div>\n",
       "<style scoped>\n",
       "    .dataframe tbody tr th:only-of-type {\n",
       "        vertical-align: middle;\n",
       "    }\n",
       "\n",
       "    .dataframe tbody tr th {\n",
       "        vertical-align: top;\n",
       "    }\n",
       "\n",
       "    .dataframe thead th {\n",
       "        text-align: right;\n",
       "    }\n",
       "</style>\n",
       "<table border=\"1\" class=\"dataframe\">\n",
       "  <thead>\n",
       "    <tr style=\"text-align: right;\">\n",
       "      <th></th>\n",
       "      <th>order_id</th>\n",
       "      <th>order_date</th>\n",
       "      <th>sku</th>\n",
       "      <th>color</th>\n",
       "      <th>size</th>\n",
       "      <th>unit_price</th>\n",
       "      <th>quantity</th>\n",
       "      <th>revenue</th>\n",
       "    </tr>\n",
       "  </thead>\n",
       "  <tbody>\n",
       "    <tr>\n",
       "      <th>0</th>\n",
       "      <td>1</td>\n",
       "      <td>2022-06-01</td>\n",
       "      <td>708</td>\n",
       "      <td>Dark Blue</td>\n",
       "      <td>2XL</td>\n",
       "      <td>298</td>\n",
       "      <td>1</td>\n",
       "      <td>298</td>\n",
       "    </tr>\n",
       "    <tr>\n",
       "      <th>1</th>\n",
       "      <td>1</td>\n",
       "      <td>2022-06-01</td>\n",
       "      <td>89</td>\n",
       "      <td>Dark Blue</td>\n",
       "      <td>2XL</td>\n",
       "      <td>258</td>\n",
       "      <td>1</td>\n",
       "      <td>258</td>\n",
       "    </tr>\n",
       "    <tr>\n",
       "      <th>2</th>\n",
       "      <td>2</td>\n",
       "      <td>2022-06-10</td>\n",
       "      <td>bobo</td>\n",
       "      <td>Cream</td>\n",
       "      <td>One Size</td>\n",
       "      <td>228</td>\n",
       "      <td>1</td>\n",
       "      <td>228</td>\n",
       "    </tr>\n",
       "    <tr>\n",
       "      <th>3</th>\n",
       "      <td>3</td>\n",
       "      <td>2022-06-10</td>\n",
       "      <td>799</td>\n",
       "      <td>Dark Blue</td>\n",
       "      <td>XL</td>\n",
       "      <td>264</td>\n",
       "      <td>1</td>\n",
       "      <td>264</td>\n",
       "    </tr>\n",
       "    <tr>\n",
       "      <th>4</th>\n",
       "      <td>4</td>\n",
       "      <td>2022-06-11</td>\n",
       "      <td>799</td>\n",
       "      <td>Dark Blue</td>\n",
       "      <td>M</td>\n",
       "      <td>264</td>\n",
       "      <td>1</td>\n",
       "      <td>264</td>\n",
       "    </tr>\n",
       "  </tbody>\n",
       "</table>\n",
       "</div>"
      ],
      "text/plain": [
       "   order_id  order_date   sku      color      size  unit_price  quantity  \\\n",
       "0         1  2022-06-01   708  Dark Blue       2XL         298         1   \n",
       "1         1  2022-06-01    89  Dark Blue       2XL         258         1   \n",
       "2         2  2022-06-10  bobo      Cream  One Size         228         1   \n",
       "3         3  2022-06-10   799  Dark Blue        XL         264         1   \n",
       "4         4  2022-06-11   799  Dark Blue         M         264         1   \n",
       "\n",
       "   revenue  \n",
       "0      298  \n",
       "1      258  \n",
       "2      228  \n",
       "3      264  \n",
       "4      264  "
      ]
     },
     "execution_count": 54,
     "metadata": {},
     "output_type": "execute_result"
    }
   ],
   "source": [
    "df.head()"
   ]
  },
  {
   "cell_type": "markdown",
   "id": "883deb92-ac42-44e4-b195-44e0d1f59597",
   "metadata": {},
   "source": [
    "# Exploratory Data Analysis"
   ]
  },
  {
   "cell_type": "code",
   "execution_count": 27,
   "id": "a6033d23-8b9e-43ce-8484-0eeb1fa3292d",
   "metadata": {},
   "outputs": [],
   "source": []
  },
  {
   "cell_type": "code",
   "execution_count": 9,
   "id": "30f9ddfd-8310-4a51-950d-9996818c1224",
   "metadata": {},
   "outputs": [
    {
     "data": {
      "text/html": [
       "<div>\n",
       "<style scoped>\n",
       "    .dataframe tbody tr th:only-of-type {\n",
       "        vertical-align: middle;\n",
       "    }\n",
       "\n",
       "    .dataframe tbody tr th {\n",
       "        vertical-align: top;\n",
       "    }\n",
       "\n",
       "    .dataframe thead th {\n",
       "        text-align: right;\n",
       "    }\n",
       "</style>\n",
       "<table border=\"1\" class=\"dataframe\">\n",
       "  <thead>\n",
       "    <tr style=\"text-align: right;\">\n",
       "      <th></th>\n",
       "      <th>order_id</th>\n",
       "      <th>unit_price</th>\n",
       "      <th>quantity</th>\n",
       "      <th>revenue</th>\n",
       "    </tr>\n",
       "  </thead>\n",
       "  <tbody>\n",
       "    <tr>\n",
       "      <th>count</th>\n",
       "      <td>527.000000</td>\n",
       "      <td>527.000000</td>\n",
       "      <td>527.000000</td>\n",
       "      <td>527.000000</td>\n",
       "    </tr>\n",
       "    <tr>\n",
       "      <th>mean</th>\n",
       "      <td>115.313093</td>\n",
       "      <td>274.973435</td>\n",
       "      <td>1.011385</td>\n",
       "      <td>278.024668</td>\n",
       "    </tr>\n",
       "    <tr>\n",
       "      <th>std</th>\n",
       "      <td>73.106716</td>\n",
       "      <td>34.517412</td>\n",
       "      <td>0.106193</td>\n",
       "      <td>44.741095</td>\n",
       "    </tr>\n",
       "    <tr>\n",
       "      <th>min</th>\n",
       "      <td>1.000000</td>\n",
       "      <td>191.000000</td>\n",
       "      <td>1.000000</td>\n",
       "      <td>191.000000</td>\n",
       "    </tr>\n",
       "    <tr>\n",
       "      <th>25%</th>\n",
       "      <td>54.000000</td>\n",
       "      <td>266.000000</td>\n",
       "      <td>1.000000</td>\n",
       "      <td>266.000000</td>\n",
       "    </tr>\n",
       "    <tr>\n",
       "      <th>50%</th>\n",
       "      <td>110.000000</td>\n",
       "      <td>278.000000</td>\n",
       "      <td>1.000000</td>\n",
       "      <td>278.000000</td>\n",
       "    </tr>\n",
       "    <tr>\n",
       "      <th>75%</th>\n",
       "      <td>166.000000</td>\n",
       "      <td>288.000000</td>\n",
       "      <td>1.000000</td>\n",
       "      <td>288.000000</td>\n",
       "    </tr>\n",
       "    <tr>\n",
       "      <th>max</th>\n",
       "      <td>273.000000</td>\n",
       "      <td>899.000000</td>\n",
       "      <td>2.000000</td>\n",
       "      <td>899.000000</td>\n",
       "    </tr>\n",
       "  </tbody>\n",
       "</table>\n",
       "</div>"
      ],
      "text/plain": [
       "         order_id  unit_price    quantity     revenue\n",
       "count  527.000000  527.000000  527.000000  527.000000\n",
       "mean   115.313093  274.973435    1.011385  278.024668\n",
       "std     73.106716   34.517412    0.106193   44.741095\n",
       "min      1.000000  191.000000    1.000000  191.000000\n",
       "25%     54.000000  266.000000    1.000000  266.000000\n",
       "50%    110.000000  278.000000    1.000000  278.000000\n",
       "75%    166.000000  288.000000    1.000000  288.000000\n",
       "max    273.000000  899.000000    2.000000  899.000000"
      ]
     },
     "execution_count": 9,
     "metadata": {},
     "output_type": "execute_result"
    }
   ],
   "source": [
    "df.describe()\n",
    "# usually customer dont purchase more than one item per visit"
   ]
  },
  {
   "cell_type": "code",
   "execution_count": 11,
   "id": "6e4f25f8-8645-4902-b6d3-a5e05ff441bb",
   "metadata": {},
   "outputs": [
    {
     "name": "stdout",
     "output_type": "stream",
     "text": [
      "<class 'pandas.core.frame.DataFrame'>\n",
      "RangeIndex: 527 entries, 0 to 526\n",
      "Data columns (total 8 columns):\n",
      " #   Column      Non-Null Count  Dtype \n",
      "---  ------      --------------  ----- \n",
      " 0   order_id    527 non-null    int64 \n",
      " 1   order_date  527 non-null    object\n",
      " 2   sku         527 non-null    object\n",
      " 3   color       527 non-null    object\n",
      " 4   size        490 non-null    object\n",
      " 5   unit_price  527 non-null    int64 \n",
      " 6   quantity    527 non-null    int64 \n",
      " 7   revenue     527 non-null    int64 \n",
      "dtypes: int64(4), object(4)\n",
      "memory usage: 33.1+ KB\n"
     ]
    }
   ],
   "source": [
    "df.info()\n",
    "# only size column has missing values"
   ]
  },
  {
   "cell_type": "code",
   "execution_count": 30,
   "id": "7c83c20a-2f0d-4df0-a638-e3e1efea7c4d",
   "metadata": {},
   "outputs": [
    {
     "data": {
      "text/plain": [
       "799      283\n",
       "708       99\n",
       "bobo      16\n",
       "239       16\n",
       "77        16\n",
       "9699      16\n",
       "89        13\n",
       "3799       9\n",
       "79         9\n",
       "1719       8\n",
       "218        7\n",
       "3081       5\n",
       "61399      4\n",
       "2499       4\n",
       "339        4\n",
       "127        3\n",
       "897        3\n",
       "8499       3\n",
       "229        2\n",
       "1499       2\n",
       "539        2\n",
       "628        1\n",
       "29         1\n",
       "439        1\n",
       "Name: sku, dtype: int64"
      ]
     },
     "execution_count": 30,
     "metadata": {},
     "output_type": "execute_result"
    }
   ],
   "source": [
    "df['sku'].value_counts()\n",
    "# the product that have the most quantity of sales is the \"799\" with more than 50% of the whole sales\n",
    "# there is a non numeric value named \"bobo\" that should be modified to numeric"
   ]
  },
  {
   "cell_type": "code",
   "execution_count": 50,
   "id": "58e31567-a0e9-478f-9657-456f67b6df9d",
   "metadata": {},
   "outputs": [
    {
     "data": {
      "text/plain": [
       "XL          164\n",
       "M            92\n",
       "L            91\n",
       "One Size     45\n",
       "2XL          43\n",
       "3XL          40\n",
       "4XL           9\n",
       "One SIze      5\n",
       "S             1\n",
       "Name: size, dtype: int64"
      ]
     },
     "execution_count": 50,
     "metadata": {},
     "output_type": "execute_result"
    }
   ],
   "source": [
    "df['size'].value_counts()\n",
    "# XL is the size with most of the sales"
   ]
  },
  {
   "cell_type": "code",
   "execution_count": 51,
   "id": "339ad6e1-250f-40e1-90c5-b81b71c9540b",
   "metadata": {},
   "outputs": [
    {
     "data": {
      "text/html": [
       "<div>\n",
       "<style scoped>\n",
       "    .dataframe tbody tr th:only-of-type {\n",
       "        vertical-align: middle;\n",
       "    }\n",
       "\n",
       "    .dataframe tbody tr th {\n",
       "        vertical-align: top;\n",
       "    }\n",
       "\n",
       "    .dataframe thead th {\n",
       "        text-align: right;\n",
       "    }\n",
       "</style>\n",
       "<table border=\"1\" class=\"dataframe\">\n",
       "  <thead>\n",
       "    <tr style=\"text-align: right;\">\n",
       "      <th></th>\n",
       "      <th>order_id</th>\n",
       "      <th>sku</th>\n",
       "      <th>color</th>\n",
       "      <th>size</th>\n",
       "      <th>unit_price</th>\n",
       "      <th>quantity</th>\n",
       "      <th>revenue</th>\n",
       "    </tr>\n",
       "    <tr>\n",
       "      <th>order_date</th>\n",
       "      <th></th>\n",
       "      <th></th>\n",
       "      <th></th>\n",
       "      <th></th>\n",
       "      <th></th>\n",
       "      <th></th>\n",
       "      <th></th>\n",
       "    </tr>\n",
       "  </thead>\n",
       "  <tbody>\n",
       "    <tr>\n",
       "      <th>2022-06-01</th>\n",
       "      <td>1</td>\n",
       "      <td>708</td>\n",
       "      <td>Dark Blue</td>\n",
       "      <td>2XL</td>\n",
       "      <td>298</td>\n",
       "      <td>1</td>\n",
       "      <td>298</td>\n",
       "    </tr>\n",
       "    <tr>\n",
       "      <th>2022-06-01</th>\n",
       "      <td>1</td>\n",
       "      <td>89</td>\n",
       "      <td>Dark Blue</td>\n",
       "      <td>2XL</td>\n",
       "      <td>258</td>\n",
       "      <td>1</td>\n",
       "      <td>258</td>\n",
       "    </tr>\n",
       "    <tr>\n",
       "      <th>2022-06-10</th>\n",
       "      <td>2</td>\n",
       "      <td>bobo</td>\n",
       "      <td>Cream</td>\n",
       "      <td>One Size</td>\n",
       "      <td>228</td>\n",
       "      <td>1</td>\n",
       "      <td>228</td>\n",
       "    </tr>\n",
       "    <tr>\n",
       "      <th>2022-06-10</th>\n",
       "      <td>3</td>\n",
       "      <td>799</td>\n",
       "      <td>Dark Blue</td>\n",
       "      <td>XL</td>\n",
       "      <td>264</td>\n",
       "      <td>1</td>\n",
       "      <td>264</td>\n",
       "    </tr>\n",
       "    <tr>\n",
       "      <th>2022-06-11</th>\n",
       "      <td>4</td>\n",
       "      <td>799</td>\n",
       "      <td>Dark Blue</td>\n",
       "      <td>M</td>\n",
       "      <td>264</td>\n",
       "      <td>1</td>\n",
       "      <td>264</td>\n",
       "    </tr>\n",
       "  </tbody>\n",
       "</table>\n",
       "</div>"
      ],
      "text/plain": [
       "            order_id   sku      color      size  unit_price  quantity  revenue\n",
       "order_date                                                                    \n",
       "2022-06-01         1   708  Dark Blue       2XL         298         1      298\n",
       "2022-06-01         1    89  Dark Blue       2XL         258         1      258\n",
       "2022-06-10         2  bobo      Cream  One Size         228         1      228\n",
       "2022-06-10         3   799  Dark Blue        XL         264         1      264\n",
       "2022-06-11         4   799  Dark Blue         M         264         1      264"
      ]
     },
     "execution_count": 51,
     "metadata": {},
     "output_type": "execute_result"
    }
   ],
   "source": [
    "df.head()"
   ]
  },
  {
   "cell_type": "code",
   "execution_count": null,
   "id": "222f635b-f2f2-4506-89b4-c5180c92b15c",
   "metadata": {},
   "outputs": [],
   "source": []
  }
 ],
 "metadata": {
  "kernelspec": {
   "display_name": "Python 3 (ipykernel)",
   "language": "python",
   "name": "python3"
  },
  "language_info": {
   "codemirror_mode": {
    "name": "ipython",
    "version": 3
   },
   "file_extension": ".py",
   "mimetype": "text/x-python",
   "name": "python",
   "nbconvert_exporter": "python",
   "pygments_lexer": "ipython3",
   "version": "3.9.13"
  }
 },
 "nbformat": 4,
 "nbformat_minor": 5
}
